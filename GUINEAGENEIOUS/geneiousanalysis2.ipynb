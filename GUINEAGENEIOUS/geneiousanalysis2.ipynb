{
 "cells": [
  {
   "cell_type": "code",
   "execution_count": 1,
   "id": "c74c280a-d14b-42e0-bf95-3fa35f811400",
   "metadata": {},
   "outputs": [],
   "source": [
    "with open (\"GuineaAnalysis.csv\", \"r\") as r1:\n",
    "    with open (\"GuineaAnalysis_ps.csv\", \"w\") as w1:\n",
    "        w1.write(\"Sample,Pooled,SITE,GENE,SNP,COVERAGE,VAF,VF,PooledSize\\n\")\n",
    "        for lines in r1:\n",
    "            a=lines.split(\",\")[0]\n",
    "            test1=\"\"\n",
    "            with open(\"Pooled_Info_Part1.csv\" , \"r\") as r2:\n",
    "                for lines2 in r2:\n",
    "                    if a in lines2:\n",
    "                        if lines2[0:-3][-1].isdigit():\n",
    "                            #print(\"\\n\" in lines2[0:-3][-1])\n",
    "                            w1.write(lines.strip(\"\\n\")+\",\"+lines2[0:-3][-1]+\"\\n\")\n",
    "                            test1=\"used\"\n",
    "                        if lines2[0:-4][-1].isdigit():\n",
    "                            w1.write(lines.strip(\"\\n\")+\",\"+lines2[0:-4][-1]+\"\\n\")\n",
    "                            test1=\"used\"\n",
    "            with open(\"Pooled_Info_Part2_fixed.csv\" , \"r\") as r3:\n",
    "                for lines3 in r3:\n",
    "                    if a in lines3:\n",
    "                        #print(lines3)\n",
    "                        w1.write(lines.strip(\"\\n\")+\",\"+lines3.strip(\"\\n\")[-1]+\"\\n\")\n",
    "                        test1=\"used\"\n",
    "            if test1!=\"used\" and lines.startswith(\"Sample\")==False:\n",
    "                w1.write(lines.strip(\"\\n\")+\",1\\n\")\n",
    "                "
   ]
  },
  {
   "cell_type": "code",
   "execution_count": null,
   "id": "5b63aca0-1c64-4f61-9b14-8276f23170b4",
   "metadata": {},
   "outputs": [],
   "source": []
  }
 ],
 "metadata": {
  "kernelspec": {
   "display_name": "Python 3",
   "language": "python",
   "name": "python3"
  },
  "language_info": {
   "codemirror_mode": {
    "name": "ipython",
    "version": 3
   },
   "file_extension": ".py",
   "mimetype": "text/x-python",
   "name": "python",
   "nbconvert_exporter": "python",
   "pygments_lexer": "ipython3",
   "version": "3.6.8"
  }
 },
 "nbformat": 4,
 "nbformat_minor": 5
}
