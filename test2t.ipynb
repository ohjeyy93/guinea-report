{
 "cells": [
  {
   "cell_type": "code",
   "execution_count": 49,
   "id": "64fac86a-1005-4e2e-ab1d-93b522bd8056",
   "metadata": {},
   "outputs": [
    {
     "name": "stdout",
     "output_type": "stream",
     "text": [
      "countpooeld 31\n",
      "sum 150.0\n",
      "ind 24\n",
      "countpooeld 31\n",
      "sum 150.0\n",
      "ind 24\n"
     ]
    }
   ],
   "source": [
    "with open(\"test2.csv\", \"r\") as r1:\n",
    "    dicttest={}\n",
    "    dicttestind={}\n",
    "    for lines in r1:\n",
    "        #print(lines)\n",
    "        if \"18GNLa\" in lines or \"18GNLS\" in lines:\n",
    "            if \"pooled\" in lines:\n",
    "                dicttest[lines.split(\",\")[0]]=lines.split(\",\")[13]\n",
    "            if \"individual\" in lines:  \n",
    "                #print(lines)\n",
    "                dicttestind[lines.split(\",\")[0]]=lines.split(\",\")[13]\n",
    "countpooled=0\n",
    "\n",
    "sumpooled=0\n",
    "for item in dicttest:\n",
    "    #print(dicttest[item])\n",
    "    countpooled+=1\n",
    "    sumpooled+=float(dicttest[item])\n",
    "    \n",
    "countindividual=0\n",
    "for item in dicttestind:\n",
    "    countindividual+=1\n",
    "\n",
    "print(\"countpooeld\", countpooled)\n",
    "print(\"sum\", sumpooled)\n",
    "print(\"ind\", countindividual)\n",
    "\n",
    "\n",
    "dicttest={}\n",
    "dicttestind={}\n",
    "with open(\"GN17_18_19_pooled_EPI.csv\", \"r\") as r1:\n",
    "    dicttest={}\n",
    "    for lines in r1:\n",
    "        #print(lines)\n",
    "        if \"18GNLa\" in lines or \"18GNLS\" in lines:\n",
    "            if \"Pooled\" in lines:\n",
    "                dicttest[lines.split(\",\")[0]]=lines.split(\",\")[12]\n",
    "#print(dicttestind)\n",
    "with open(\"GN17_18_19_individual_EPI.csv\", \"r\") as r2:\n",
    "        dicttestind={}\n",
    "        for lines in r2:\n",
    "            if \"18GNLa\" in lines or \"18GNLS\" in lines:\n",
    "                if \"Individual\" in lines:    \n",
    "                    #print(lines)\n",
    "                    #print(lines.split(\",\")[0])\n",
    "                    #print(lines.split(\",\")[0])\n",
    "                    #print(lines.split(\",\")[0])\n",
    "                    #print(\"19GNDo00A0134PfF1290\" in lines)\n",
    "                    dicttestind[lines.split(\",\")[0]]=\"exist\"\n",
    "                    \n",
    "countpooled=0\n",
    "\n",
    "#print(dicttestind)\n",
    "\n",
    "sumpooled=0\n",
    "for item in dicttest:\n",
    "    #print(dicttest[item])\n",
    "    countpooled+=1\n",
    "    sumpooled+=float(dicttest[item])\n",
    "    \n",
    "countindividual=0\n",
    "for item in dicttestind:\n",
    "    #print(item)\n",
    "    countindividual+=1\n",
    "\n",
    "print(\"countpooeld\", countpooled)\n",
    "print(\"sum\", sumpooled)\n",
    "print(\"ind\", countindividual)                    \n"
   ]
  },
  {
   "cell_type": "code",
   "execution_count": null,
   "id": "2eaf1c86-8586-4dfe-a541-41fb519cab20",
   "metadata": {},
   "outputs": [],
   "source": []
  }
 ],
 "metadata": {
  "kernelspec": {
   "display_name": "Python 3",
   "language": "python",
   "name": "python3"
  },
  "language_info": {
   "codemirror_mode": {
    "name": "ipython",
    "version": 3
   },
   "file_extension": ".py",
   "mimetype": "text/x-python",
   "name": "python",
   "nbconvert_exporter": "python",
   "pygments_lexer": "ipython3",
   "version": "3.6.8"
  }
 },
 "nbformat": 4,
 "nbformat_minor": 5
}
