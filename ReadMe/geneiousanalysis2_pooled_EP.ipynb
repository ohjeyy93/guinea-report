{
 "cells": [
  {
   "cell_type": "code",
   "execution_count": 1,
   "id": "dee2478d-94e7-451b-94c7-2123c4cd7eb3",
   "metadata": {},
   "outputs": [],
   "source": [
    "###We open previously created Geneious analysis for pooled #####\n",
    "with open (\"GuineaAnalysis_pooled_EP.csv\", \"r\") as r1:\n",
    "    ####We assign pooled group and pooled size to the previous information####\n",
    "    with open (\"GuineaAnalysis_ps_pooled_EP.csv\", \"w\") as w1:\n",
    "        ###We first write header for the new file####\n",
    "        w1.write(\"Sample,Pooled,Year,SITE,TreatmentDay,GENE,G_annotation,COVERAGE,VAF,VF,SNP,Type,PooledSize,PooledGroup\\n\")\n",
    "        for lines in r1:\n",
    "            a=lines.split(\",\")[0]\n",
    "            test1=\"\"\n",
    "            ####For every line we add pooled size and pooled group####\n",
    "            ###This is for the pooled info part 1######\n",
    "            with open(\"Pooled_Info_Part1.csv\" , \"r\") as r2:\n",
    "                for lines2 in r2:\n",
    "                    #print(lines2)\n",
    "                    if a in lines2:\n",
    "                        if lines2[0:-3][-1].isdigit():\n",
    "                            #print(\"\\n\" in lines2[0:-3][-1])\n",
    "                            #print(lines2.split(\",\")[0])\n",
    "                            w1.write(lines.strip(\"\\n\")+\",\"+lines2[0:-3][-1]+\",\"+lines2.split(\",\")[0]+\"\\n\")\n",
    "                            test1=\"used\"\n",
    "                        if lines2[0:-4][-1].isdigit():\n",
    "                            w1.write(lines.strip(\"\\n\")+\",\"+lines2[0:-4][-1]+\",\"+lines2.split(\",\")[0]+\"\\n\")\n",
    "                            test1=\"used\"\n",
    "            ####For every line we add pooled size and pooled group####\n",
    "            ###This is for the pooled info part 1######\n",
    "            with open(\"Pooled_Info_Part2_fixed.csv\" , \"r\") as r3:\n",
    "                for lines3 in r3:\n",
    "                    if a in lines3:\n",
    "                        w1.write(lines.strip(\"\\n\")+\",\"+lines3.strip(\"\\n\")[-1]+\",\"+lines2.split(\",\")[0]+\"\\n\")\n",
    "                        test1=\"used\"\n",
    "             ###If we don't assign pooled size or group we just assign 1 if it is individual#####\n",
    "            if test1!=\"used\" and lines.startswith(\"Sample\")==False:\n",
    "                w1.write(lines.strip(\"\\n\")+\",1\"+\",\"+lines2.split(\",\")[0]+\"\\n\")\n",
    "                "
   ]
  },
  {
   "cell_type": "code",
   "execution_count": null,
   "id": "88692146-010d-4b6a-96af-64873bad6880",
   "metadata": {},
   "outputs": [],
   "source": []
  },
  {
   "cell_type": "code",
   "execution_count": null,
   "id": "a0c8087a-9597-4226-8e64-cddd1762e0b9",
   "metadata": {},
   "outputs": [],
   "source": []
  }
 ],
 "metadata": {
  "kernelspec": {
   "display_name": "Python 3",
   "language": "python",
   "name": "python3"
  },
  "language_info": {
   "codemirror_mode": {
    "name": "ipython",
    "version": 3
   },
   "file_extension": ".py",
   "mimetype": "text/x-python",
   "name": "python",
   "nbconvert_exporter": "python",
   "pygments_lexer": "ipython3",
   "version": "3.6.8"
  }
 },
 "nbformat": 4,
 "nbformat_minor": 5
}
